{
  "nbformat": 4,
  "nbformat_minor": 0,
  "metadata": {
    "colab": {
      "provenance": [],
      "authorship_tag": "ABX9TyO0nxQc5+2kW+TOjLDvvLU9",
      "include_colab_link": true
    },
    "kernelspec": {
      "name": "python3",
      "display_name": "Python 3"
    },
    "language_info": {
      "name": "python"
    }
  },
  "cells": [
    {
      "cell_type": "markdown",
      "metadata": {
        "id": "view-in-github",
        "colab_type": "text"
      },
      "source": [
        "<a href=\"https://colab.research.google.com/github/Rahyoyoung/BP_10_Ch7/blob/main/BP_10_EX_Ch7.ipynb\" target=\"_parent\"><img src=\"https://colab.research.google.com/assets/colab-badge.svg\" alt=\"Open In Colab\"/></a>"
      ]
    },
    {
      "cell_type": "code",
      "source": [
        "import turtle #터틀 라이브러리를 불러옴\n",
        "\n",
        "t = turtle.Turtle()\n",
        "s = turtle.Screen()\n",
        "\n",
        "t.color('black', 'white')\n",
        "s.bgcolor('skyblue') # 색 지정\n",
        "\n",
        "def draw_snowman(x, y): #함수 생성 x,y 변수 지정\n",
        "    # 눈사람 1단\n",
        "    t.up()\n",
        "    t.goto(x, y + 110)\n",
        "    t.down()\n",
        "\n",
        "    t.begin_fill()\n",
        "    t.circle(35)\n",
        "    t.end_fill()\n",
        "\n",
        "    # 눈사람 2단\n",
        "    t.up()\n",
        "    t.goto(x, y + 80)\n",
        "    t.down()\n",
        "\n",
        "    t.lt(20)\n",
        "    t.fd(90)\n",
        "    t.fd(-90)\n",
        "    t.lt(115)\n",
        "    t.fd(90)\n",
        "    t.fd(-90)\n",
        "    t.seth(0)\n",
        "\n",
        "    t.begin_fill()\n",
        "    t.circle(25)\n",
        "    t.end_fill()\n",
        "\n",
        "    # 눈사람 3단\n",
        "    t.up()\n",
        "    t.goto(x, y)\n",
        "    t.down()\n",
        "\n",
        "    t.begin_fill()\n",
        "    t.circle(50)\n",
        "    t.end_fill()\n",
        "\n",
        "for i in range(3): # 작성한 함수 3회 반복\n",
        "    draw_snowman(200*i-200,0)"
      ],
      "metadata": {
        "id": "2CBAFXb1m8Df"
      },
      "execution_count": null,
      "outputs": []
    },
    {
      "cell_type": "code",
      "source": [
        "import turtle #터틀 라이브러리 불러옴\n",
        "\n",
        "t = turtle.Turtle()\n",
        "t.shape(\"turtle\")\n",
        "\n",
        "def draw_hexa(): #함수 생성\n",
        "    for i in range(6): #6번 반복문\n",
        "        t.fd(50)\n",
        "        t.rt(60) #이동\n",
        "\n",
        "for i in range(6):\n",
        "    t.fd(50)\n",
        "    t.lt(60)\n",
        "    draw_hexa()"
      ],
      "metadata": {
        "id": "WDbCa2bzpcrB"
      },
      "execution_count": null,
      "outputs": []
    },
    {
      "cell_type": "code",
      "source": [
        "import turtle      #터틀 라이브러리 불러옴\n",
        "\n",
        "t = turtle.Turtle()\n",
        "t.shape(\"turtle\")\n",
        "\n",
        "def draw_f(): #함수 생성\n",
        "    for i in range(150): #150만큼 반복\n",
        "        t.goto(i, (i ** 2 + 1) * 0.01) #이동 계산\n",
        "\n",
        "# X선\n",
        "t.fd(250)\n",
        "t.fd(-250)\n",
        "t.lt(90)\n",
        "\n",
        "# Y선\n",
        "t.fd(250)\n",
        "t.fd(-250)\n",
        "t.rt(90)\n",
        "\n",
        "draw_f() #함수 실행"
      ],
      "metadata": {
        "id": "HzcRPTRjqEYv"
      },
      "execution_count": null,
      "outputs": []
    },
    {
      "cell_type": "code",
      "source": [
        "import turtle   #터틀 라이브러리 불러옴\n",
        "\n",
        "t = turtle.Turtle()\n",
        "t.shape(\"turtle\")\n",
        "\n",
        "def draw_line(): #이동 함수 생성\n",
        "    t.fd(100)\n",
        "    t.fd(-100)\n",
        "\n",
        "for i in range(12): #12번 만큼 그리기 함수와 각도 변경 반복 실행\n",
        "    draw_line()\n",
        "    t.lt(30) #각도"
      ],
      "metadata": {
        "id": "57wSL8iFqiT-"
      },
      "execution_count": null,
      "outputs": []
    },
    {
      "cell_type": "code",
      "source": [
        "def happyBirthday(string): #함수 생성, 변수 지정\n",
        "    print(\"=====================\")\n",
        "    print(\"Happy Birthday to you!\")\n",
        "    print(\"Happy Birthday to you!\")\n",
        "    print(\"Happy Birthday, dear \" + string)\n",
        "    print(\"Happy Birthday to you!\")\n",
        "\n",
        "happyBirthday(input(\"이름 : \")) #함수 실행"
      ],
      "metadata": {
        "id": "4uufSle5rFTU"
      },
      "execution_count": null,
      "outputs": []
    },
    {
      "cell_type": "code",
      "source": [
        "def MathQ():   #함수 생성\n",
        "    a = int(input(\"첫 번째 정수: \"))                 #사용자로 부터 a에 정수를 입력 받아 저장\n",
        "    b = int(input(\"두 번째 정수: \"))                #사용자로 부터 b에 정수를 입력 받아 저장\n",
        "    print(\"정수 %d+%d의 합은? \" % (a, b))          #a+b 출력\n",
        "\n",
        "MathQ()         #함수 실행"
      ],
      "metadata": {
        "id": "jvEf9uFXrmx1"
      },
      "execution_count": null,
      "outputs": []
    },
    {
      "cell_type": "code",
      "source": [
        "PI = 3.14                      #pi값 전역변수 실수형으로 지정(저장)\n",
        "\n",
        "def circleArea(radius):                    #원 면적 함수 생성\n",
        "    return PI * (radius ** 2)\n",
        "\n",
        "def circleCircumference(radius):                #원 둘레 함수 생성\n",
        "    return PI * 2 * radius\n",
        "\n",
        "print(\"반지름이 5인 원의 면적 : \", circleArea(5))                     #원 면석 함수(radius)에 5 입력 시 계산 값 출력\n",
        "print(\"반지름이 5인 원의 둘레 : \", circleCircumference(5))                #원 둘레 함수(radius)에 5 입력 시 계산 값 출력"
      ],
      "metadata": {
        "id": "LG9PylLWsDKb"
      },
      "execution_count": null,
      "outputs": []
    },
    {
      "cell_type": "code",
      "source": [
        "def add(a, b):   #더하기 함수 생성 a,b변수 지정\n",
        " print( \"(%d + %d)\" % (a, b), end=\" \")      #각 함수 계산 값 출력\n",
        " return a + b  \n",
        "\n",
        "def subtract(a, b):  #빼기 함수 생성 a,b변수 지정\n",
        " print (\"(%d - %d)\" % (a, b), end=\" \")\n",
        " return a - b    \n",
        "\n",
        "def multiply(a, b):   #곱셈 함수 생성 a,b변수 지정\n",
        " print (\"(%d * %d)\" % (a, b), end=\" \")\n",
        " return a * b\n",
        "\n",
        "def divide(a, b):      #나누기 함수 생성 a,b변수 지정\n",
        " print (\"(%d / %d)\" % (a, b), end=\" \")\n",
        " return a / b\n",
        "\n",
        "what = add(20, 10)\n",
        "print(\"= \", what)"
      ],
      "metadata": {
        "id": "GqBYTMhIthOt"
      },
      "execution_count": null,
      "outputs": []
    }
  ]
}